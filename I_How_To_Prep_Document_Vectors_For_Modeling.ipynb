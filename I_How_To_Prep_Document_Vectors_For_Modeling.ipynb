{
 "cells": [
  {
   "cell_type": "markdown",
   "metadata": {},
   "source": [
    "# doc2vec: How To Prep Document Vectors For Modeling"
   ]
  },
  {
   "cell_type": "markdown",
   "metadata": {},
   "source": [
    "### Train Our Own Model"
   ]
  },
  {
   "cell_type": "code",
   "execution_count": 1,
   "metadata": {},
   "outputs": [],
   "source": [
    "# Read in data, clean it, split it into train/test, and then train a doc2vec model\n",
    "import gensim\n",
    "import pandas as pd\n",
    "from sklearn.model_selection import train_test_split\n",
    "pd.set_option('display.max_colwidth', 100)\n",
    "\n",
    "messages = pd.read_csv('data/spam.csv', encoding='latin-1')\n",
    "messages = messages.drop(labels = [\"Unnamed: 2\", \"Unnamed: 3\", \"Unnamed: 4\"], axis = 1)\n",
    "messages.columns = [\"label\", \"text\"]\n",
    "messages['text_clean'] = messages['text'].apply(lambda x: gensim.utils.simple_preprocess(x))\n",
    "\n",
    "X_train, X_test, y_train, y_test = train_test_split(messages['text_clean'],\n",
    "                                                    messages['label'], test_size=0.2)\n",
    "\n",
    "tagged_docs_tr = [gensim.models.doc2vec.TaggedDocument(v, [i]) for i, v in enumerate(X_train)]\n",
    "\n",
    "d2v_model = gensim.models.Doc2Vec(tagged_docs_tr,\n",
    "                                  vector_size=50,\n",
    "                                  window=2,\n",
    "                                  min_count=2)"
   ]
  },
  {
   "cell_type": "code",
   "execution_count": 2,
   "metadata": {},
   "outputs": [
    {
     "data": {
      "text/plain": [
       "array([-0.01583582, -0.01078648,  0.01102773,  0.00904165, -0.00117396,\n",
       "       -0.03492529,  0.01549454,  0.03006059, -0.0520426 , -0.01348217,\n",
       "       -0.01120493, -0.02327557,  0.00997286, -0.00078414, -0.02592563,\n",
       "        0.00677809,  0.02560052,  0.0172052 , -0.04280085, -0.0310849 ,\n",
       "        0.02402894,  0.02091368,  0.06099086, -0.00010197,  0.02700032,\n",
       "        0.00799857, -0.03746714,  0.01596646, -0.02827403,  0.00696208,\n",
       "       -0.00248682,  0.0207566 ,  0.00660272,  0.00904716, -0.01786794,\n",
       "        0.03836119,  0.01383206, -0.02683711, -0.00723607, -0.0197924 ,\n",
       "        0.03211804, -0.00042815, -0.01020709, -0.01078441,  0.05345201,\n",
       "        0.02384111, -0.01174617, -0.03114555, -0.00338417,  0.0023359 ],\n",
       "      dtype=float32)"
      ]
     },
     "execution_count": 2,
     "metadata": {},
     "output_type": "execute_result"
    }
   ],
   "source": [
    "# What does a document vector look like again?\n",
    "d2v_model.infer_vector(['convert', 'words', 'to', 'vectors'])"
   ]
  },
  {
   "cell_type": "code",
   "execution_count": 3,
   "metadata": {},
   "outputs": [],
   "source": [
    "# How do we prepare these vectors to be used in a machine learning model?\n",
    "vectors = [[d2v_model.infer_vector(words)] for words in X_test]"
   ]
  },
  {
   "cell_type": "code",
   "execution_count": 4,
   "metadata": {},
   "outputs": [
    {
     "data": {
      "text/plain": [
       "[array([-0.04807341, -0.01310107,  0.02514252,  0.01070159,  0.0057556 ,\n",
       "        -0.15704052,  0.06673873,  0.13855024, -0.16996112, -0.04391557,\n",
       "        -0.02060913, -0.13567497,  0.04223663,  0.02923106, -0.07134473,\n",
       "         0.00406091,  0.12524554,  0.03308947, -0.18982084, -0.12064762,\n",
       "         0.09205989,  0.10650145,  0.21505673, -0.02098837,  0.11403172,\n",
       "         0.02145085, -0.15501988,  0.02625986, -0.13717714,  0.01220014,\n",
       "         0.02913066,  0.04406924,  0.01778236,  0.03227564, -0.08553268,\n",
       "         0.1121104 ,  0.09475613, -0.09097485,  0.00251127, -0.03506465,\n",
       "         0.10082211, -0.01598644, -0.05185844, -0.001961  ,  0.19862522,\n",
       "         0.0792819 , -0.01436281, -0.12041789,  0.01298195,  0.05401143],\n",
       "       dtype=float32)]"
      ]
     },
     "execution_count": 4,
     "metadata": {},
     "output_type": "execute_result"
    }
   ],
   "source": [
    "vectors[0]"
   ]
  },
  {
   "cell_type": "code",
   "execution_count": null,
   "metadata": {},
   "outputs": [],
   "source": []
  }
 ],
 "metadata": {
  "kernelspec": {
   "display_name": "Python 3",
   "language": "python",
   "name": "python3"
  },
  "language_info": {
   "codemirror_mode": {
    "name": "ipython",
    "version": 3
   },
   "file_extension": ".py",
   "mimetype": "text/x-python",
   "name": "python",
   "nbconvert_exporter": "python",
   "pygments_lexer": "ipython3",
   "version": "3.6.10"
  }
 },
 "nbformat": 4,
 "nbformat_minor": 1
}
