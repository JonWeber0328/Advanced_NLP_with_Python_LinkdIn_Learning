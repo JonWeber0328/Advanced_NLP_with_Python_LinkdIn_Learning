{
 "cells": [
  {
   "cell_type": "markdown",
   "metadata": {},
   "source": [
    "# Compare NLP Techniques: Build Model On word2vec Vectors"
   ]
  },
  {
   "cell_type": "markdown",
   "metadata": {},
   "source": [
    "### Read In Cleaned Text"
   ]
  },
  {
   "cell_type": "code",
   "execution_count": 1,
   "metadata": {},
   "outputs": [],
   "source": [
    "# Load the cleaned training and test sets\n",
    "import gensim\n",
    "import numpy as np\n",
    "import pandas as pd\n",
    "\n",
    "X_train = pd.read_csv('data/X_train.csv')\n",
    "X_test = pd.read_csv('data/X_test.csv')\n",
    "y_train = pd.read_csv('data/y_train.csv')\n",
    "y_test = pd.read_csv('data/y_test.csv')"
   ]
  },
  {
   "cell_type": "markdown",
   "metadata": {},
   "source": [
    "### Create word2vec Vectors"
   ]
  },
  {
   "cell_type": "code",
   "execution_count": 3,
   "metadata": {},
   "outputs": [],
   "source": [
    "# Train a basic word2vec model\n",
    "w2v_model = gensim.models.Word2Vec(X_train,\n",
    "                                   vector_size=100,\n",
    "                                   window=5,\n",
    "                                   min_count=2)"
   ]
  },
  {
   "cell_type": "code",
   "execution_count": 6,
   "metadata": {},
   "outputs": [
    {
     "name": "stderr",
     "output_type": "stream",
     "text": [
      "C:\\Users\\weber\\anaconda3\\envs\\PythonData\\lib\\site-packages\\ipykernel_launcher.py:4: VisibleDeprecationWarning: Creating an ndarray from ragged nested sequences (which is a list-or-tuple of lists-or-tuples-or ndarrays with different lengths or shapes) is deprecated. If you meant to do this, you must specify 'dtype=object' when creating the ndarray\n",
      "  after removing the cwd from sys.path.\n",
      "C:\\Users\\weber\\anaconda3\\envs\\PythonData\\lib\\site-packages\\ipykernel_launcher.py:6: VisibleDeprecationWarning: Creating an ndarray from ragged nested sequences (which is a list-or-tuple of lists-or-tuples-or ndarrays with different lengths or shapes) is deprecated. If you meant to do this, you must specify 'dtype=object' when creating the ndarray\n",
      "  \n"
     ]
    }
   ],
   "source": [
    "# Replace the words in each text message with the learned word vector\n",
    "words = set(w2v_model.wv.index_to_key)\n",
    "X_train_vect = np.array([np.array([w2v_model.wv[i] for i in ls if i in words])\n",
    "                         for ls in X_train['clean_text']])\n",
    "X_test_vect = np.array([np.array([w2v_model.wv[i] for i in ls if i in words])\n",
    "                         for ls in X_test['clean_text']])"
   ]
  },
  {
   "cell_type": "code",
   "execution_count": 7,
   "metadata": {},
   "outputs": [],
   "source": [
    "# Average the word vectors for each sentence (and assign a vector of zeros if the model\n",
    "# did not learn any of the words in the text message during training\n",
    "X_train_vect_avg = []\n",
    "for v in X_train_vect:\n",
    "    if v.size:\n",
    "        X_train_vect_avg.append(v.mean(axis=0))\n",
    "    else:\n",
    "        X_train_vect_avg.append(np.zeros(100, dtype=float))\n",
    "        \n",
    "X_test_vect_avg = []\n",
    "for v in X_test_vect:\n",
    "    if v.size:\n",
    "        X_test_vect_avg.append(v.mean(axis=0))\n",
    "    else:\n",
    "        X_test_vect_avg.append(np.zeros(100, dtype=float))"
   ]
  },
  {
   "cell_type": "code",
   "execution_count": 8,
   "metadata": {},
   "outputs": [
    {
     "data": {
      "text/plain": [
       "array([[-0.00861969,  0.00366574,  0.00518988, ..., -0.00239151,\n",
       "        -0.0095101 ,  0.00450588],\n",
       "       [-0.00861969,  0.00366574,  0.00518988, ..., -0.00239151,\n",
       "        -0.0095101 ,  0.00450588],\n",
       "       [-0.00053623,  0.00023643,  0.00510335, ..., -0.00704156,\n",
       "         0.00090146,  0.00639253],\n",
       "       ...,\n",
       "       [-0.00861969,  0.00366574,  0.00518988, ..., -0.00239151,\n",
       "        -0.0095101 ,  0.00450588],\n",
       "       [-0.00053623,  0.00023643,  0.00510335, ..., -0.00704156,\n",
       "         0.00090146,  0.00639253],\n",
       "       [-0.00053623,  0.00023643,  0.00510335, ..., -0.00704156,\n",
       "         0.00090146,  0.00639253]], dtype=float32)"
      ]
     },
     "execution_count": 8,
     "metadata": {},
     "output_type": "execute_result"
    }
   ],
   "source": [
    "# What does the unaveraged version look like?\n",
    "X_train_vect[0]"
   ]
  },
  {
   "cell_type": "code",
   "execution_count": 9,
   "metadata": {},
   "outputs": [
    {
     "data": {
      "text/plain": [
       "array([-3.4756674e-03,  1.4834511e-03,  5.1348167e-03,  7.8211501e-03,\n",
       "       -3.2048165e-03, -6.7716702e-03,  4.5122323e-03,  7.9090949e-03,\n",
       "       -4.2243828e-03, -4.6397913e-03,  4.5475126e-03, -4.0191007e-03,\n",
       "       -4.9233045e-03,  6.7542284e-03, -1.8737242e-03,  1.4718683e-03,\n",
       "        4.3033678e-03,  3.3696441e-03, -6.6502853e-03, -6.2171784e-03,\n",
       "        5.5068959e-03,  1.5832457e-03,  7.3507968e-03, -3.0993277e-03,\n",
       "        6.5013450e-03, -1.1072631e-03, -2.3960136e-03,  5.2702511e-03,\n",
       "       -5.4190699e-03, -6.4291184e-05, -1.1565160e-03, -2.1781889e-03,\n",
       "        5.8517698e-03, -6.7287926e-03, -8.4827145e-05, -2.1978990e-04,\n",
       "        7.6460321e-03, -1.5556264e-03,  3.4972832e-03,  3.4704769e-04,\n",
       "       -3.2393255e-03,  6.4482098e-04, -8.9036888e-03, -2.9241629e-03,\n",
       "       -1.1495515e-03,  2.6821801e-03, -2.7158537e-03,  5.5564125e-03,\n",
       "        3.7198409e-03,  6.5265596e-03, -2.3486493e-03, -5.9728837e-04,\n",
       "       -2.7074241e-03,  1.7862298e-03,  5.0667669e-03,  2.0834939e-04,\n",
       "        6.1514215e-03, -1.9420646e-03, -2.5169007e-03,  8.7846518e-03,\n",
       "       -4.1073561e-03,  1.3707298e-03, -4.3214909e-03, -6.7395126e-03,\n",
       "        3.4567335e-04,  3.5245379e-03,  2.2601692e-03,  1.4245097e-03,\n",
       "        9.5750898e-04,  3.8474945e-03,  2.1228506e-03,  2.1308274e-03,\n",
       "        1.0521532e-03, -3.4925437e-03,  2.4948777e-03, -2.0760845e-03,\n",
       "        2.1590581e-03, -1.4255662e-03,  1.9128347e-04, -6.9029108e-03,\n",
       "       -3.9523756e-03,  3.1902627e-03,  5.2134469e-03,  2.1503940e-03,\n",
       "       -3.1897842e-03,  4.2838341e-04,  3.8836037e-03, -6.6473093e-03,\n",
       "       -9.9843799e-04,  2.5984521e-03,  1.4337188e-03, -4.5231663e-04,\n",
       "        3.0092860e-03, -2.7274429e-03,  5.1330039e-03,  4.1888203e-03,\n",
       "       -3.7304556e-03, -5.3506359e-03, -2.8845631e-03,  5.7064770e-03],\n",
       "      dtype=float32)"
      ]
     },
     "execution_count": 9,
     "metadata": {},
     "output_type": "execute_result"
    }
   ],
   "source": [
    "# What does the averaged version look like?\n",
    "X_train_vect_avg[0]"
   ]
  },
  {
   "cell_type": "markdown",
   "metadata": {},
   "source": [
    "### Fit RandomForestClassifier On Top Of Word Vectors"
   ]
  },
  {
   "cell_type": "code",
   "execution_count": 10,
   "metadata": {},
   "outputs": [],
   "source": [
    "# Instantiate and fit a basic Random Forest model on top of the vectors\n",
    "from sklearn.ensemble import RandomForestClassifier\n",
    "\n",
    "rf = RandomForestClassifier()\n",
    "rf_model = rf.fit(X_train_vect_avg, y_train.values.ravel())"
   ]
  },
  {
   "cell_type": "code",
   "execution_count": 11,
   "metadata": {},
   "outputs": [],
   "source": [
    "# Use the trained model to make predictions on the test data\n",
    "y_pred = rf_model.predict(X_test_vect_avg)"
   ]
  },
  {
   "cell_type": "code",
   "execution_count": 12,
   "metadata": {},
   "outputs": [
    {
     "name": "stdout",
     "output_type": "stream",
     "text": [
      "Precision: 0.528 / Recall: 0.257 / Accuracy: 0.871\n"
     ]
    }
   ],
   "source": [
    "# Evaluate the predictions of the model on the holdout test set\n",
    "from sklearn.metrics import precision_score, recall_score\n",
    "\n",
    "precision = precision_score(y_test, y_pred)\n",
    "recall = recall_score(y_test, y_pred)\n",
    "print('Precision: {} / Recall: {} / Accuracy: {}'.format(\n",
    "    round(precision, 3), round(recall, 3), round((y_pred==y_test['label']).sum()/len(y_pred), 3)))"
   ]
  },
  {
   "cell_type": "code",
   "execution_count": null,
   "metadata": {},
   "outputs": [],
   "source": []
  }
 ],
 "metadata": {
  "kernelspec": {
   "display_name": "Python 3",
   "language": "python",
   "name": "python3"
  },
  "language_info": {
   "codemirror_mode": {
    "name": "ipython",
    "version": 3
   },
   "file_extension": ".py",
   "mimetype": "text/x-python",
   "name": "python",
   "nbconvert_exporter": "python",
   "pygments_lexer": "ipython3",
   "version": "3.6.10"
  }
 },
 "nbformat": 4,
 "nbformat_minor": 2
}
