{
 "cells": [
  {
   "cell_type": "markdown",
   "metadata": {},
   "source": [
    "# doc2vec: How To Implement doc2vec"
   ]
  },
  {
   "cell_type": "markdown",
   "metadata": {},
   "source": [
    "### Train Our Own Model"
   ]
  },
  {
   "cell_type": "code",
   "execution_count": 1,
   "metadata": {},
   "outputs": [],
   "source": [
    "# Read in data, clean it, and then split into train and test sets\n",
    "import gensim\n",
    "import pandas as pd\n",
    "from sklearn.model_selection import train_test_split\n",
    "pd.set_option('display.max_colwidth', 100)\n",
    "\n",
    "messages = pd.read_csv('data/spam.csv', encoding='latin-1')\n",
    "messages = messages.drop(labels = [\"Unnamed: 2\", \"Unnamed: 3\", \"Unnamed: 4\"], axis = 1)\n",
    "messages.columns = [\"label\", \"text\"]\n",
    "messages['text_clean'] = messages['text'].apply(lambda x: gensim.utils.simple_preprocess(x))\n",
    "\n",
    "X_train, X_test, y_train, y_test = train_test_split(messages['text_clean'],\n",
    "                                                    messages['label'], test_size=0.2)"
   ]
  },
  {
   "cell_type": "code",
   "execution_count": 2,
   "metadata": {},
   "outputs": [],
   "source": [
    "# Create tagged document objects to prepare to train the model\n",
    "tagged_docs = [gensim.models.doc2vec.TaggedDocument(v, [i]) for i, v in enumerate(X_train)]"
   ]
  },
  {
   "cell_type": "code",
   "execution_count": 3,
   "metadata": {},
   "outputs": [
    {
     "data": {
      "text/plain": [
       "TaggedDocument(words=['hmv', 'bonus', 'special', 'pounds', 'of', 'genuine', 'hmv', 'vouchers', 'to', 'be', 'won', 'just', 'answer', 'easy', 'questions', 'play', 'now', 'send', 'hmv', 'to', 'more', 'info', 'www', 'percent', 'real', 'com'], tags=[0])"
      ]
     },
     "execution_count": 3,
     "metadata": {},
     "output_type": "execute_result"
    }
   ],
   "source": [
    "# Look at what a tagged document looks like\n",
    "tagged_docs[0]"
   ]
  },
  {
   "cell_type": "code",
   "execution_count": 4,
   "metadata": {},
   "outputs": [],
   "source": [
    "# Train a basic doc2vec model\n",
    "d2v_model = gensim.models.Doc2Vec(tagged_docs,\n",
    "                                 vector_size=100,\n",
    "                                 window=5,\n",
    "                                 min_count=2)"
   ]
  },
  {
   "cell_type": "code",
   "execution_count": 5,
   "metadata": {},
   "outputs": [
    {
     "ename": "TypeError",
     "evalue": "Parameter doc_words of infer_vector() must be a list of strings (not a single string).",
     "output_type": "error",
     "traceback": [
      "\u001b[1;31m---------------------------------------------------------------------------\u001b[0m",
      "\u001b[1;31mTypeError\u001b[0m                                 Traceback (most recent call last)",
      "\u001b[1;32m<ipython-input-5-81bc935a6094>\u001b[0m in \u001b[0;36m<module>\u001b[1;34m\u001b[0m\n\u001b[0;32m      1\u001b[0m \u001b[1;31m# What happens if we pass in a single word like we did for word2vec?\u001b[0m\u001b[1;33m\u001b[0m\u001b[1;33m\u001b[0m\u001b[1;33m\u001b[0m\u001b[0m\n\u001b[1;32m----> 2\u001b[1;33m \u001b[0md2v_model\u001b[0m\u001b[1;33m.\u001b[0m\u001b[0minfer_vector\u001b[0m\u001b[1;33m(\u001b[0m\u001b[1;34m'text'\u001b[0m\u001b[1;33m)\u001b[0m\u001b[1;33m\u001b[0m\u001b[1;33m\u001b[0m\u001b[0m\n\u001b[0m",
      "\u001b[1;32m~\\anaconda3\\envs\\PythonData\\lib\\site-packages\\gensim\\models\\doc2vec.py\u001b[0m in \u001b[0;36minfer_vector\u001b[1;34m(self, doc_words, alpha, min_alpha, epochs)\u001b[0m\n\u001b[0;32m    618\u001b[0m         \"\"\"\n\u001b[0;32m    619\u001b[0m         \u001b[1;32mif\u001b[0m \u001b[0misinstance\u001b[0m\u001b[1;33m(\u001b[0m\u001b[0mdoc_words\u001b[0m\u001b[1;33m,\u001b[0m \u001b[0mstr\u001b[0m\u001b[1;33m)\u001b[0m\u001b[1;33m:\u001b[0m  \u001b[1;31m# a common mistake; fail with a nicer error\u001b[0m\u001b[1;33m\u001b[0m\u001b[1;33m\u001b[0m\u001b[0m\n\u001b[1;32m--> 620\u001b[1;33m             \u001b[1;32mraise\u001b[0m \u001b[0mTypeError\u001b[0m\u001b[1;33m(\u001b[0m\u001b[1;34m\"Parameter doc_words of infer_vector() must be a list of strings (not a single string).\"\u001b[0m\u001b[1;33m)\u001b[0m\u001b[1;33m\u001b[0m\u001b[1;33m\u001b[0m\u001b[0m\n\u001b[0m\u001b[0;32m    621\u001b[0m \u001b[1;33m\u001b[0m\u001b[0m\n\u001b[0;32m    622\u001b[0m         \u001b[0malpha\u001b[0m \u001b[1;33m=\u001b[0m \u001b[0malpha\u001b[0m \u001b[1;32mor\u001b[0m \u001b[0mself\u001b[0m\u001b[1;33m.\u001b[0m\u001b[0malpha\u001b[0m\u001b[1;33m\u001b[0m\u001b[1;33m\u001b[0m\u001b[0m\n",
      "\u001b[1;31mTypeError\u001b[0m: Parameter doc_words of infer_vector() must be a list of strings (not a single string)."
     ]
    }
   ],
   "source": [
    "# What happens if we pass in a single word like we did for word2vec?\n",
    "d2v_model.infer_vector('text')"
   ]
  },
  {
   "cell_type": "code",
   "execution_count": 6,
   "metadata": {},
   "outputs": [
    {
     "data": {
      "text/plain": [
       "array([ 2.62265746e-03,  1.20117189e-02,  7.36849476e-03,  5.01720409e-04,\n",
       "        1.98712619e-03, -3.16745006e-02, -6.94196438e-04,  3.60809229e-02,\n",
       "       -2.64994577e-02, -1.38318026e-02, -5.91123942e-03, -2.21291073e-02,\n",
       "       -1.51363749e-03,  9.78325028e-03,  5.24505088e-03, -1.42252063e-02,\n",
       "        1.07265059e-02, -9.48298629e-03, -5.18206321e-03, -3.42651680e-02,\n",
       "        1.66297331e-02,  1.65504292e-02,  1.13149295e-02, -1.71890203e-02,\n",
       "        3.73426992e-05,  8.64912849e-03, -1.49079347e-02, -1.09734833e-02,\n",
       "       -2.69840267e-02, -1.51310058e-03,  2.97942162e-02,  3.28300567e-03,\n",
       "        1.40803615e-02, -1.10984296e-02, -3.64107359e-03,  2.61366535e-02,\n",
       "        4.90047969e-04, -1.16027417e-02, -1.18197296e-02, -3.70565318e-02,\n",
       "       -3.13327578e-03, -1.61756631e-02, -5.66129852e-03, -4.49734554e-03,\n",
       "        1.09385131e-02, -8.96043237e-03, -1.20821409e-02, -1.35634001e-02,\n",
       "       -2.38964958e-06,  1.36643797e-02,  1.32778045e-02, -2.09862944e-02,\n",
       "       -1.13230746e-03, -6.22536428e-03, -7.14681251e-03,  5.11787226e-03,\n",
       "       -4.28262982e-04,  4.91059013e-03, -2.79077366e-02, -1.44437642e-03,\n",
       "        1.12729073e-02,  6.19978039e-03,  3.92368948e-03, -1.70673511e-03,\n",
       "       -1.53722921e-02,  2.62826681e-02,  1.12115461e-02,  9.31190979e-03,\n",
       "       -3.05656679e-02,  2.67539378e-02, -1.22779887e-02,  1.27348555e-02,\n",
       "        1.62188057e-02,  3.37371230e-03,  2.39041355e-02,  1.88927110e-02,\n",
       "        2.85718287e-03, -8.60293768e-03, -1.19760558e-02,  2.85353744e-03,\n",
       "       -1.06049813e-02,  3.01983615e-04, -1.90354083e-02,  2.73070503e-02,\n",
       "       -3.50477872e-03, -4.68862616e-03, -2.86962301e-03,  1.51935117e-02,\n",
       "        2.30195895e-02,  1.15448888e-02,  2.58599762e-02,  2.15650853e-02,\n",
       "       -7.48711266e-03,  5.39714983e-03,  3.22406031e-02,  1.36334095e-02,\n",
       "        9.58313141e-03, -1.24776755e-02,  8.77071463e-04, -2.67949625e-04],\n",
       "      dtype=float32)"
      ]
     },
     "execution_count": 6,
     "metadata": {},
     "output_type": "execute_result"
    }
   ],
   "source": [
    "# What happens if we pass in a list of words?\n",
    "d2v_model.infer_vector(['i', 'am', 'learning', 'nlp'])"
   ]
  },
  {
   "cell_type": "markdown",
   "metadata": {},
   "source": [
    "### What About Pre-trained Document Vectors?\n",
    "\n",
    "There are not as many options as there are for word vectors. There also is not an easy API to read these in like there is for `word2vec` so it is more time consuming.\n",
    "\n",
    "Pre-trained vectors from training on Wikipedia and Associated Press News can be found [here](https://github.com/jhlau/doc2vec). Feel free to explore on your own!"
   ]
  }
 ],
 "metadata": {
  "kernelspec": {
   "display_name": "Python 3",
   "language": "python",
   "name": "python3"
  },
  "language_info": {
   "codemirror_mode": {
    "name": "ipython",
    "version": 3
   },
   "file_extension": ".py",
   "mimetype": "text/x-python",
   "name": "python",
   "nbconvert_exporter": "python",
   "pygments_lexer": "ipython3",
   "version": "3.6.10"
  }
 },
 "nbformat": 4,
 "nbformat_minor": 1
}
